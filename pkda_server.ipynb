{
 "cells": [
  {
   "cell_type": "code",
   "execution_count": 1,
   "id": "f5724f54",
   "metadata": {},
   "outputs": [],
   "source": [
    "import socket\n",
    "import os\n",
    "from _thread import *\n",
    "from random import randrange, getrandbits\n",
    "from math import gcd"
   ]
  },
  {
   "attachments": {},
   "cell_type": "markdown",
   "id": "54aa1649",
   "metadata": {},
   "source": [
    "### Generating big prime numbers using Miller Rabin Test\n",
    "<a href='https://medium.com/@ntnprdhmm/how-to-generate-big-prime-numbers-miller-rabin-49e6e6af32fb'>Source</a>"
   ]
  },
  {
   "cell_type": "code",
   "execution_count": 5,
   "id": "28e451ff",
   "metadata": {},
   "outputs": [],
   "source": [
    "def is_prime(n, k=128):\n",
    "    \"\"\" Test if a number is prime\n",
    "        Args:\n",
    "            n -- int -- the number to test\n",
    "            k -- int -- the number of tests to do\n",
    "        return True if n is prime\n",
    "    \"\"\"\n",
    "    # Test if n is not even.\n",
    "    # But care, 2 is prime !\n",
    "    if n == 2 or n == 3:\n",
    "        return True\n",
    "    if n <= 1 or n % 2 == 0:\n",
    "        return False\n",
    "    # find r and s\n",
    "    s = 0\n",
    "    r = n - 1\n",
    "    while r & 1 == 0:\n",
    "        s += 1\n",
    "        r //= 2\n",
    "    # do k tests\n",
    "    for _ in range(k):\n",
    "        a = randrange(2, n - 1)\n",
    "        x = pow(a, r, n)\n",
    "        if x != 1 and x != n - 1:\n",
    "            j = 1\n",
    "            while j < s and x != n - 1:\n",
    "                x = pow(x, 2, n)\n",
    "                if x == 1:\n",
    "                    return False\n",
    "                j += 1\n",
    "            if x != n - 1:\n",
    "                return False\n",
    "    return True\n",
    "\n",
    "def generate_prime_candidate(length):\n",
    "    \"\"\" Generate an odd integer randomly\n",
    "        Args:\n",
    "            length -- int -- the length of the number to generate, in bits\n",
    "        return a integer\n",
    "    \"\"\"\n",
    "    # generate random bits\n",
    "    p = getrandbits(length)\n",
    "    # apply a mask to set MSB and LSB to 1\n",
    "    p |= (1 << length - 1) | 1\n",
    "    return p\n",
    "def generate_prime_number(length=1024):\n",
    "    \"\"\" Generate a prime\n",
    "        Args:\n",
    "            length -- int -- length of the prime to generate, in          bits\n",
    "        return a prime\n",
    "    \"\"\"\n",
    "    p = 4\n",
    "    # keep generating while the primality test fail\n",
    "    while not is_prime(p, 128):\n",
    "        p = generate_prime_candidate(length)\n",
    "    return p\n"
   ]
  },
  {
   "attachments": {},
   "cell_type": "markdown",
   "id": "483afb87",
   "metadata": {},
   "source": [
    "### Key generation"
   ]
  },
  {
   "cell_type": "code",
   "execution_count": null,
   "id": "5bf2984a",
   "metadata": {},
   "outputs": [],
   "source": [
    "def generate_public_key(phi):\n",
    "    e = phi-1\n",
    "    while True:\n",
    "        if gcd(e, phi) == 1:\n",
    "            return e\n",
    "        e -= 1"
   ]
  },
  {
   "cell_type": "code",
   "execution_count": 6,
   "id": "28288f84",
   "metadata": {},
   "outputs": [],
   "source": [
    "def generate_key():\n",
    "    p = generate_prime_number()\n",
    "    q = generate_prime_number()\n",
    "    n = p * q\n",
    "    phi = (p-1) * (q-1)\n",
    "    e = generate_public_key(phi)\n",
    "    d = pow(e, -1, phi)\n",
    "    return (e, n), (d, n)"
   ]
  },
  {
   "attachments": {},
   "cell_type": "markdown",
   "id": "c156ce0a",
   "metadata": {},
   "source": [
    "### Encryption"
   ]
  },
  {
   "cell_type": "code",
   "execution_count": 7,
   "id": "ac8b099e",
   "metadata": {},
   "outputs": [],
   "source": [
    "def encrypt(pk, plaintext):\n",
    "    # Unpack the key into it's components\n",
    "    key, n = pk\n",
    "    # Convert each letter in the plaintext to numbers based on the character using a^b mod m\n",
    "    cipher = [pow(ord(char), key, n) for char in plaintext]\n",
    "    # Return the array of bytes\n",
    "    return cipher"
   ]
  },
  {
   "attachments": {},
   "cell_type": "markdown",
   "id": "9edbbcf6",
   "metadata": {},
   "source": [
    "### Decryption"
   ]
  },
  {
   "cell_type": "code",
   "execution_count": 8,
   "id": "661ebbd2",
   "metadata": {},
   "outputs": [],
   "source": [
    "def decrypt(pk, ciphertext):\n",
    "    # Unpack the key into its components\n",
    "    key, n = pk\n",
    "    # Generate the plaintext based on the ciphertext and key using a^b mod m\n",
    "    plain = [chr(pow(char, key, n)) for char in ciphertext]\n",
    "    # Return the array of bytes as a string\n",
    "    return ''.join(plain)"
   ]
  },
  {
   "cell_type": "code",
   "execution_count": 10,
   "id": "32a33ab8",
   "metadata": {},
   "outputs": [
    {
     "name": "stdout",
     "output_type": "stream",
     "text": [
      "(65537, 31326754858867358124357086579071826010200059323531955679566887945759390675838673845232015105126972937388568736544596689797668825339157136890481595384743810006624619157134135391484571402535617730110112660311598998153160586974262941255564293668481979962157625919021316451251911741026695391775636810992585738524913593376057045111861800302051912786822232202770027007361078797914806407627383850375687974820789943593511606243328071372907407506615220970113618164339212696880056111445944606126460979705361190756332606801944055865963930780537469800597900982892354281404585770500536757133376053019637166714789307054013578200747) (4972644930295819560976040582908650166838750890988341470231080691818895298850263576482729651016004691512478150758707895753012020538066309032633169610868514816041562981089558729841371992928849829048255214691266984722940164888433364021570034439068282612056178684339819568219076824418278410068235496662280382652104814849956509961183965759318537616503801287021320641344311854258049754369380031683774471348214600811356593085560105586640595822362188612384396934914744750496339303936239600367869467585642415729188836373790579908659700629519495216926093906867355035378788731048079090198257407120590130923327143449594208461537, 31326754858867358124357086579071826010200059323531955679566887945759390675838673845232015105126972937388568736544596689797668825339157136890481595384743810006624619157134135391484571402535617730110112660311598998153160586974262941255564293668481979962157625919021316451251911741026695391775636810992585738524913593376057045111861800302051912786822232202770027007361078797914806407627383850375687974820789943593511606243328071372907407506615220970113618164339212696880056111445944606126460979705361190756332606801944055865963930780537469800597900982892354281404585770500536757133376053019637166714789307054013578200747)\n"
     ]
    }
   ],
   "source": [
    "\n",
    "public_key, private_key = generate_key()\n",
    "print(public_key, private_key)"
   ]
  },
  {
   "cell_type": "code",
   "execution_count": null,
   "id": "b61f7480",
   "metadata": {},
   "outputs": [],
   "source": [
    "# print('Ciphertext: ', encrypt(pk, 'The quick brown fox jumps over the lazy dog.'))\n",
    "# print('Plaintext: ', decrypt(sk, encrypt(pk, 'The quick brown fox jumps over the lazy dog.')))"
   ]
  },
  {
   "cell_type": "code",
   "execution_count": null,
   "id": "4477aa8b",
   "metadata": {},
   "outputs": [
    {
     "name": "stdout",
     "output_type": "stream",
     "text": [
      "Socket is listening..\n",
      "Connected to: 127.0.0.1:53587\n",
      "Thread Number: 1\n",
      "Data received from the client yo wassup\n",
      "Data received from the client hello world\n"
     ]
    }
   ],
   "source": [
    "ServerSideSocket = socket.socket()\n",
    "host = '127.0.0.1'\n",
    "port = 2004\n",
    "ThreadCount = 0\n",
    "try:\n",
    "    ServerSideSocket.bind((host, port))\n",
    "except socket.error as e:\n",
    "    print(str(e))\n",
    "print('Socket is listening..')\n",
    "ServerSideSocket.listen(5)\n",
    "def multi_threaded_client(connection):\n",
    "    connection.send(str.encode('Server is working:'))\n",
    "    while True:\n",
    "        data = connection.recv(2048)\n",
    "        print('Data received from the client {}'.format(data.decode('utf-8')))\n",
    "        response = 'Server message: ' + data.decode('utf-8')\n",
    "        if not data:\n",
    "            break\n",
    "        connection.sendall(str.encode(response))\n",
    "    connection.close()\n",
    "while True:\n",
    "    Client, address = ServerSideSocket.accept()\n",
    "    print('Connected to: ' + address[0] + ':' + str(address[1]))\n",
    "    start_new_thread(multi_threaded_client, (Client, ))\n",
    "    ThreadCount += 1\n",
    "    print('Thread Number: ' + str(ThreadCount))\n",
    "ServerSideSocket.close()"
   ]
  },
  {
   "cell_type": "code",
   "execution_count": null,
   "id": "2f943f87",
   "metadata": {},
   "outputs": [],
   "source": []
  }
 ],
 "metadata": {
  "kernelspec": {
   "display_name": "Python 3 (ipykernel)",
   "language": "python",
   "name": "python3"
  },
  "language_info": {
   "codemirror_mode": {
    "name": "ipython",
    "version": 3
   },
   "file_extension": ".py",
   "mimetype": "text/x-python",
   "name": "python",
   "nbconvert_exporter": "python",
   "pygments_lexer": "ipython3",
   "version": "3.11.2"
  }
 },
 "nbformat": 4,
 "nbformat_minor": 5
}
