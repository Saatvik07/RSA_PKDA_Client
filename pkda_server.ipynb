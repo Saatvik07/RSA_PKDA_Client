{
 "cells": [
  {
   "cell_type": "code",
   "execution_count": 2,
   "id": "f5724f54",
   "metadata": {},
   "outputs": [],
   "source": [
    "import socket\n",
    "import os\n",
    "from _thread import *\n",
    "from random import randrange, getrandbits\n",
    "from math import gcd\n",
    "import json\n",
    "import time"
   ]
  },
  {
   "attachments": {},
   "cell_type": "markdown",
   "id": "54aa1649",
   "metadata": {},
   "source": [
    "### Generating big prime numbers using Miller Rabin Test\n",
    "<a href='https://medium.com/@ntnprdhmm/how-to-generate-big-prime-numbers-miller-rabin-49e6e6af32fb'>Source</a>"
   ]
  },
  {
   "cell_type": "code",
   "execution_count": 3,
   "id": "28e451ff",
   "metadata": {},
   "outputs": [],
   "source": [
    "def is_prime(n, k=128):\n",
    "    \"\"\" Test if a number is prime\n",
    "        Args:\n",
    "            n -- int -- the number to test\n",
    "            k -- int -- the number of tests to do\n",
    "        return True if n is prime\n",
    "    \"\"\"\n",
    "    # Test if n is not even.\n",
    "    # But care, 2 is prime !\n",
    "    if n == 2 or n == 3:\n",
    "        return True\n",
    "    if n <= 1 or n % 2 == 0:\n",
    "        return False\n",
    "    # find r and s\n",
    "    s = 0\n",
    "    r = n - 1\n",
    "    while r & 1 == 0:\n",
    "        s += 1\n",
    "        r //= 2\n",
    "    # do k tests\n",
    "    for _ in range(k):\n",
    "        a = randrange(2, n - 1)\n",
    "        x = pow(a, r, n)\n",
    "        if x != 1 and x != n - 1:\n",
    "            j = 1\n",
    "            while j < s and x != n - 1:\n",
    "                x = pow(x, 2, n)\n",
    "                if x == 1:\n",
    "                    return False\n",
    "                j += 1\n",
    "            if x != n - 1:\n",
    "                return False\n",
    "    return True\n",
    "\n",
    "def generate_prime_candidate(length):\n",
    "    \"\"\" Generate an odd integer randomly\n",
    "        Args:\n",
    "            length -- int -- the length of the number to generate, in bits\n",
    "        return a integer\n",
    "    \"\"\"\n",
    "    # generate random bits\n",
    "    p = getrandbits(length)\n",
    "    # apply a mask to set MSB and LSB to 1\n",
    "    p |= (1 << length - 1) | 1\n",
    "    return p\n",
    "def generate_prime_number(length=1024):\n",
    "    \"\"\" Generate a prime\n",
    "        Args:\n",
    "            length -- int -- length of the prime to generate, in          bits\n",
    "        return a prime\n",
    "    \"\"\"\n",
    "    p = 4\n",
    "    # keep generating while the primality test fail\n",
    "    while not is_prime(p, 128):\n",
    "        p = generate_prime_candidate(length)\n",
    "    return p\n"
   ]
  },
  {
   "attachments": {},
   "cell_type": "markdown",
   "id": "483afb87",
   "metadata": {},
   "source": [
    "### Key generation"
   ]
  },
  {
   "cell_type": "code",
   "execution_count": 4,
   "id": "5bf2984a",
   "metadata": {},
   "outputs": [],
   "source": [
    "def generate_public_key(phi):\n",
    "    e = phi-1\n",
    "    while True:\n",
    "        if gcd(e, phi) == 1:\n",
    "            return e\n",
    "        e -= 1"
   ]
  },
  {
   "cell_type": "code",
   "execution_count": 5,
   "id": "28288f84",
   "metadata": {},
   "outputs": [],
   "source": [
    "def generate_key():\n",
    "    p = generate_prime_number()\n",
    "    q = generate_prime_number()\n",
    "    n = p * q\n",
    "    phi = (p-1) * (q-1)\n",
    "    e = generate_public_key(phi)\n",
    "    d = pow(e, -1, phi)\n",
    "    return (e, n), (d, n)"
   ]
  },
  {
   "attachments": {},
   "cell_type": "markdown",
   "id": "c156ce0a",
   "metadata": {},
   "source": [
    "### Encryption"
   ]
  },
  {
   "cell_type": "code",
   "execution_count": 6,
   "id": "ac8b099e",
   "metadata": {},
   "outputs": [],
   "source": [
    "def encrypt(pk, plaintext):\n",
    "    # Unpack the key into it's components\n",
    "    key, n = pk\n",
    "    # Convert each letter in the plaintext to numbers based on the character using a^b mod m\n",
    "    cipher = [pow(ord(char), key, n) for char in plaintext]\n",
    "    # Return the array of bytes\n",
    "    return cipher"
   ]
  },
  {
   "attachments": {},
   "cell_type": "markdown",
   "id": "9edbbcf6",
   "metadata": {},
   "source": [
    "### Decryption"
   ]
  },
  {
   "cell_type": "code",
   "execution_count": 7,
   "id": "661ebbd2",
   "metadata": {},
   "outputs": [],
   "source": [
    "def decrypt(pk, ciphertext):\n",
    "    # Unpack the key into its components\n",
    "    key, n = pk\n",
    "    # Generate the plaintext based on the ciphertext and key using a^b mod m\n",
    "    plain = [chr(pow(char, key, n)) for char in ciphertext]\n",
    "    # Return the array of bytes as a string\n",
    "    return ''.join(plain)"
   ]
  },
  {
   "cell_type": "code",
   "execution_count": 8,
   "id": "e9b7ff38",
   "metadata": {},
   "outputs": [],
   "source": [
    "def get_timestamp():\n",
    "    return int(time.time())\n",
    "\n",
    "def get_nonce():\n",
    "    return randrange(2**64)\n",
    "\n",
    "def get_nonce_acknowledgment(nonce_received):\n",
    "    # XORing with a constant value twice gives back the original value\n",
    "    return nonce_received ^ 0xFFFF \n",
    "\n",
    "def get_validity_timestamp():\n",
    "    return get_timestamp() + 5*60*1000\n",
    "\n",
    "def check_validity_message(valid_till):\n",
    "    return valid_till > get_timestamp()"
   ]
  },
  {
   "cell_type": "code",
   "execution_count": 9,
   "id": "9ae01e77",
   "metadata": {},
   "outputs": [],
   "source": [
    "def add_public_key_to_ring(public_key, public_key_ring, client_id):\n",
    "    public_key_ring[client_id] = public_key\n",
    "\n",
    "def get_public_key_from_ring(public_key_ring, client_id):\n",
    "    return public_key_ring[client_id]"
   ]
  },
  {
   "cell_type": "code",
   "execution_count": 10,
   "id": "4477aa8b",
   "metadata": {},
   "outputs": [
    {
     "name": "stdout",
     "output_type": "stream",
     "text": [
      "Socket is listening..\n",
      "Connected to: 127.0.0.1:56689\n",
      "Thread Number: 1\n",
      "Validity check passed\n",
      "{'c88451de68345346a911447ff0935760': [27066444483047106755758558391298117089038987444058711146891607668182248374475584424558386142964543410199568270921772655601693971925263028349563896637502134035465672269666535197770407563767384574074461003454776501499457637237746671924979368849484196271475912621209745361356002901260105571288079731160627870084047384010778220116220727281806851658915502889287505124515981990667947316421516193344933196436698402203732287990101942446496400442889632903725390243431080343777267057440252197280678481613682264045525284655381556557848354375216948708986395961453442132049116940993930511326414982021610158243435783514228706632163, 27066444483047106755758558391298117089038987444058711146891607668182248374475584424558386142964543410199568270921772655601693971925263028349563896637502134035465672269666535197770407563767384574074461003454776501499457637237746671924979368849484196271475912621209745361356002901260105571288079731160627870084376695649648549079800142706743695854937714212845764008015128596449386463686196202576398159224472338912875633280071043112933826599121168135320419297542821367840478261908261310414359282990445938352832360381101125307923994959964219398133699227137254849151436213879164782239809318761363813858004173590501806641681]}\n"
     ]
    }
   ],
   "source": [
    "ServerSideSocket = socket.socket()\n",
    "host = '127.0.0.1'\n",
    "port = 8080\n",
    "ThreadCount = 0\n",
    "public_key, private_key = generate_key()\n",
    "public_key_ring = {}\n",
    "message_nonce_list = []\n",
    "try:\n",
    "    ServerSideSocket.bind((host, port))\n",
    "except socket.error as e:\n",
    "    print(str(e))\n",
    "print('Socket is listening..')\n",
    "ServerSideSocket.listen(5)\n",
    "def multi_threaded_client(connection):\n",
    "    client_handshake_message_str = connection.recv(2048).decode('utf-8')\n",
    "    client_handshake_message = json.loads(client_handshake_message_str)\n",
    "    if not check_validity_message(client_handshake_message['valid_till']):\n",
    "        print('Invalid message, message expired')\n",
    "        return\n",
    "    else:\n",
    "        print('Validity check passed')\n",
    "        client_id = client_handshake_message['id']\n",
    "        client_public_key = client_handshake_message['public_key']\n",
    "        nonce_received = client_handshake_message['nonce']\n",
    "        add_public_key_to_ring(client_public_key, public_key_ring, client_id)\n",
    "\n",
    "        message_nonce = get_nonce()\n",
    "        message_nonce_list.append(message_nonce)\n",
    "\n",
    "        server_handshake_message = {\n",
    "            'type':'handshake',\n",
    "            'id': 'public key distribution authority', # server id\n",
    "            'public_key':public_key,\n",
    "            'timestamp': get_timestamp(),\n",
    "            'nonce': message_nonce, # message nonce of the server handshake message\n",
    "            'acknowledgement_nonce': get_nonce_acknowledgment(nonce_received), # acknowledgment_nonce of the client handshake message,\n",
    "            'valid_till': get_validity_timestamp()\n",
    "        }\n",
    "\n",
    "        server_handshake_message_str = json.dumps(server_handshake_message)\n",
    "        connection.sendall(str.encode(server_handshake_message_str))\n",
    "    connection.close()\n",
    "\n",
    "    print(public_key_ring)\n",
    "    \n",
    "while True:\n",
    "    Client, address = ServerSideSocket.accept()\n",
    "    print('Connected to: ' + address[0] + ':' + str(address[1]))\n",
    "    start_new_thread(multi_threaded_client, (Client, ))\n",
    "    ThreadCount += 1\n",
    "    print('Thread Number: ' + str(ThreadCount))\n",
    "ServerSideSocket.close()"
   ]
  },
  {
   "cell_type": "code",
   "execution_count": null,
   "id": "2f943f87",
   "metadata": {},
   "outputs": [],
   "source": []
  }
 ],
 "metadata": {
  "kernelspec": {
   "display_name": "Python 3 (ipykernel)",
   "language": "python",
   "name": "python3"
  },
  "language_info": {
   "codemirror_mode": {
    "name": "ipython",
    "version": 3
   },
   "file_extension": ".py",
   "mimetype": "text/x-python",
   "name": "python",
   "nbconvert_exporter": "python",
   "pygments_lexer": "ipython3",
   "version": "3.11.2"
  }
 },
 "nbformat": 4,
 "nbformat_minor": 5
}
