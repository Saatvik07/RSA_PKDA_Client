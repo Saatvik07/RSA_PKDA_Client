{
 "cells": [
  {
   "cell_type": "code",
   "execution_count": 11,
   "id": "62251fd1",
   "metadata": {},
   "outputs": [],
   "source": [
    "import socket\n",
    "import os\n",
    "from _thread import *\n",
    "from random import randrange, getrandbits\n",
    "from math import gcd\n",
    "import json\n",
    "import time"
   ]
  },
  {
   "attachments": {},
   "cell_type": "markdown",
   "id": "53bd0318",
   "metadata": {},
   "source": [
    "### Generating big prime numbers using Miller Rabin Test\n",
    "<a href='https://medium.com/@ntnprdhmm/how-to-generate-big-prime-numbers-miller-rabin-49e6e6af32fb'>Source</a>"
   ]
  },
  {
   "cell_type": "code",
   "execution_count": 12,
   "id": "9fc7be5c",
   "metadata": {},
   "outputs": [],
   "source": [
    "def is_prime(n, k=128):\n",
    "    \"\"\" Test if a number is prime\n",
    "        Args:\n",
    "            n -- int -- the number to test\n",
    "            k -- int -- the number of tests to do\n",
    "        return True if n is prime\n",
    "    \"\"\"\n",
    "    # Test if n is not even.\n",
    "    # But care, 2 is prime !\n",
    "    if n == 2 or n == 3:\n",
    "        return True\n",
    "    if n <= 1 or n % 2 == 0:\n",
    "        return False\n",
    "    # find r and s\n",
    "    s = 0\n",
    "    r = n - 1\n",
    "    while r & 1 == 0:\n",
    "        s += 1\n",
    "        r //= 2\n",
    "    # do k tests\n",
    "    for _ in range(k):\n",
    "        a = randrange(2, n - 1)\n",
    "        x = pow(a, r, n)\n",
    "        if x != 1 and x != n - 1:\n",
    "            j = 1\n",
    "            while j < s and x != n - 1:\n",
    "                x = pow(x, 2, n)\n",
    "                if x == 1:\n",
    "                    return False\n",
    "                j += 1\n",
    "            if x != n - 1:\n",
    "                return False\n",
    "    return True\n",
    "\n",
    "def generate_prime_candidate(length):\n",
    "    \"\"\" Generate an odd integer randomly\n",
    "        Args:\n",
    "            length -- int -- the length of the number to generate, in bits\n",
    "        return a integer\n",
    "    \"\"\"\n",
    "    # generate random bits\n",
    "    p = getrandbits(length)\n",
    "    # apply a mask to set MSB and LSB to 1\n",
    "    p |= (1 << length - 1) | 1\n",
    "    return p\n",
    "def generate_prime_number(length=1024):\n",
    "    \"\"\" Generate a prime\n",
    "        Args:\n",
    "            length -- int -- length of the prime to generate, in          bits\n",
    "        return a prime\n",
    "    \"\"\"\n",
    "    p = 4\n",
    "    # keep generating while the primality test fail\n",
    "    while not is_prime(p, 128):\n",
    "        p = generate_prime_candidate(length)\n",
    "    return p\n"
   ]
  },
  {
   "attachments": {},
   "cell_type": "markdown",
   "id": "24d319d8",
   "metadata": {},
   "source": [
    "### Key Generation"
   ]
  },
  {
   "cell_type": "code",
   "execution_count": 13,
   "id": "99dd7db1",
   "metadata": {},
   "outputs": [],
   "source": [
    "def generate_public_key(phi):\n",
    "    e = phi-1\n",
    "    while True:\n",
    "        if gcd(e, phi) == 1:\n",
    "            return e\n",
    "        e -= 1"
   ]
  },
  {
   "cell_type": "code",
   "execution_count": 14,
   "id": "f55c55dc",
   "metadata": {},
   "outputs": [],
   "source": [
    "def generate_key():\n",
    "    p = generate_prime_number()\n",
    "    q = generate_prime_number()\n",
    "    n = p * q\n",
    "    phi = (p-1) * (q-1)\n",
    "    e = generate_public_key(phi)\n",
    "    d = pow(e, -1, phi)\n",
    "    return (e, n), (d, n)"
   ]
  },
  {
   "attachments": {},
   "cell_type": "markdown",
   "id": "8a6a67d9",
   "metadata": {},
   "source": [
    "### Encryption"
   ]
  },
  {
   "cell_type": "code",
   "execution_count": 15,
   "id": "02344afe",
   "metadata": {},
   "outputs": [],
   "source": [
    "def encrypt(pk, plaintext):\n",
    "    # Unpack the key into it's components\n",
    "    key, n = pk\n",
    "    # Convert each letter in the plaintext to numbers based on the character using a^b mod m\n",
    "    cipher = [pow(ord(char), key, n) for char in plaintext]\n",
    "    # Return the array of bytes\n",
    "    return cipher"
   ]
  },
  {
   "attachments": {},
   "cell_type": "markdown",
   "id": "ba47bd66",
   "metadata": {},
   "source": [
    "### Decryption"
   ]
  },
  {
   "cell_type": "code",
   "execution_count": 16,
   "id": "1b24716f",
   "metadata": {},
   "outputs": [],
   "source": [
    "def decrypt(pk, ciphertext):\n",
    "    # Unpack the key into its components\n",
    "    key, n = pk\n",
    "    # Generate the plaintext based on the ciphertext and key using a^b mod m\n",
    "    plain = [chr(pow(char, key, n)) for char in ciphertext]\n",
    "    # Return the array of bytes as a string\n",
    "    return ''.join(plain)"
   ]
  },
  {
   "cell_type": "code",
   "execution_count": 17,
   "id": "54885897",
   "metadata": {},
   "outputs": [],
   "source": [
    "def generate_id():\n",
    "    return os.urandom(16).hex()\n",
    "\n",
    "def get_timestamp():\n",
    "    return int(time.time())\n",
    "\n",
    "def get_nonce():\n",
    "    # generate a random 64-bit number between 2^32 and 2^64-1\n",
    "    return randrange(2**64)\n",
    "\n",
    "def get_nonce_acknowledgment(nonce_received):\n",
    "    # XORing with a constant value twice gives back the original value\n",
    "    return nonce_received ^ 0xFFFF \n",
    "\n",
    "def get_validity_timestamp():\n",
    "    return get_timestamp() + 5*60*1000\n",
    "\n",
    "def check_validity_message(valid_till):\n",
    "    return valid_till > get_timestamp()\n"
   ]
  },
  {
   "cell_type": "code",
   "execution_count": 18,
   "id": "ddcbf1e5",
   "metadata": {},
   "outputs": [],
   "source": [
    "def add_public_key_to_ring(public_key, public_key_ring, client_id):\n",
    "    public_key_ring[client_id] = public_key\n",
    "\n",
    "def get_public_key_from_ring(public_key_ring, client_id):\n",
    "    return public_key_ring[client_id]"
   ]
  },
  {
   "cell_type": "code",
   "execution_count": 21,
   "id": "5d187bd1",
   "metadata": {},
   "outputs": [
    {
     "name": "stdout",
     "output_type": "stream",
     "text": [
      "{'type': 'handshake', 'id': 'public key distribution authority', 'public_key': [22905204799085418614470651110036475527822313997049748720900317422023991344291981446708421163337669507222155406787032223360688879819978438866594098252295238810300972921745419923492508500174408006902452628373624618817305961220456986451316056497296337128314355613377832898729061765272289198605223986644218380991668972402454641735641918263550579911373639907784188830292709760310291834649581724823320363786652818245266735588622423996574767514960735107200016924248922055077159355547348393664298428388736849304738499078951690308474158824474199546165634722566513621219749387300965030838996937653937551918630833547613860656903, 22905204799085418614470651110036475527822313997049748720900317422023991344291981446708421163337669507222155406787032223360688879819978438866594098252295238810300972921745419923492508500174408006902452628373624618817305961220456986451316056497296337128314355613377832898729061765272289198605223986644218380991971818023126181410192872618199502979424468677425683965367068008516166880676431291624711622721508050294243726593590295613996214745351391133327861467540954015872049490955798217196887386326102228979152004103400709828796253216224780312138236398536007514608720906872559048434134792333220837226541940769979268931751], 'timestamp': 1680393298, 'nonce': 15583517683170748949, 'acknowledgement_nonce': 8063564244493450948, 'valid_till': 1680693298}\n",
      "Handshake successful\n",
      "{'public key distribution authority': [22905204799085418614470651110036475527822313997049748720900317422023991344291981446708421163337669507222155406787032223360688879819978438866594098252295238810300972921745419923492508500174408006902452628373624618817305961220456986451316056497296337128314355613377832898729061765272289198605223986644218380991668972402454641735641918263550579911373639907784188830292709760310291834649581724823320363786652818245266735588622423996574767514960735107200016924248922055077159355547348393664298428388736849304738499078951690308474158824474199546165634722566513621219749387300965030838996937653937551918630833547613860656903, 22905204799085418614470651110036475527822313997049748720900317422023991344291981446708421163337669507222155406787032223360688879819978438866594098252295238810300972921745419923492508500174408006902452628373624618817305961220456986451316056497296337128314355613377832898729061765272289198605223986644218380991971818023126181410192872618199502979424468677425683965367068008516166880676431291624711622721508050294243726593590295613996214745351391133327861467540954015872049490955798217196887386326102228979152004103400709828796253216224780312138236398536007514608720906872559048434134792333220837226541940769979268931751]}\n"
     ]
    }
   ],
   "source": [
    "ClientMultiSocket = socket.socket()\n",
    "host = '127.0.0.1'\n",
    "port = 8080\n",
    "public_key, private_key = generate_key()\n",
    "id = generate_id()\n",
    "public_key_ring = {}\n",
    "try:\n",
    "    ClientMultiSocket.connect((host, port))\n",
    "    \n",
    "except socket.error as e:\n",
    "    print(str(e))\n",
    "\n",
    "## message structure\n",
    "# {\n",
    "#     \"type\":'handshake', # type of message\n",
    "#     'id':'', # unique id of the sender\n",
    "#     'public_key': '', # public key of the sender\n",
    "#     'timestamp': '', # timestamp of the message\n",
    "#     'nonce': '', # nonce of the message\n",
    "#     'valid_till': '', # validity timestamp of the message\n",
    "#     'acknowledgement_nonce': '' # f(previous_message_nonce) XORed with a constant value\n",
    "# }\n",
    "\n",
    "## first message in the channel \n",
    "latest_message_nonce = get_nonce()\n",
    "client_handshake_message = {\n",
    "    \"type\":'handshake',\n",
    "    \"id\": id,\n",
    "    \"public_key\": public_key,\n",
    "    'timestamp': get_timestamp(),\n",
    "    'nonce':latest_message_nonce,\n",
    "    'valid_till': get_validity_timestamp()\n",
    "    # this message doesn't have an acknowledgement nonce because it is the first message\n",
    "}\n",
    "\n",
    "client_handshake_message_str = json.dumps(client_handshake_message)\n",
    "ClientMultiSocket.send(str.encode(client_handshake_message_str))\n",
    "\n",
    "server_handshake_message_str = ClientMultiSocket.recv(2048).decode('utf-8')\n",
    "server_handshake_message = json.loads(server_handshake_message_str)\n",
    "\n",
    "if not check_validity_message(server_handshake_message['valid_till']):\n",
    "    print('Invalid message, message expired')\n",
    "else:\n",
    "    print(server_handshake_message)\n",
    "    acknowledgement_nonce = server_handshake_message['acknowledgement_nonce']\n",
    "    if latest_message_nonce != get_nonce_acknowledgment(acknowledgement_nonce):\n",
    "        print('The server did not acknowledge the handshake message, nonce mismatch')\n",
    "    else:\n",
    "        print('Handshake successful')\n",
    "        add_public_key_to_ring(server_handshake_message[\"public_key\"], public_key_ring, server_handshake_message[\"id\"])\n",
    "\n",
    "\n",
    "\n",
    "\n",
    "ClientMultiSocket.close()\n",
    "print(public_key_ring)"
   ]
  },
  {
   "cell_type": "code",
   "execution_count": null,
   "id": "b1608837",
   "metadata": {},
   "outputs": [],
   "source": []
  }
 ],
 "metadata": {
  "kernelspec": {
   "display_name": "Python 3 (ipykernel)",
   "language": "python",
   "name": "python3"
  },
  "language_info": {
   "codemirror_mode": {
    "name": "ipython",
    "version": 3
   },
   "file_extension": ".py",
   "mimetype": "text/x-python",
   "name": "python",
   "nbconvert_exporter": "python",
   "pygments_lexer": "ipython3",
   "version": "3.11.2"
  }
 },
 "nbformat": 4,
 "nbformat_minor": 5
}
