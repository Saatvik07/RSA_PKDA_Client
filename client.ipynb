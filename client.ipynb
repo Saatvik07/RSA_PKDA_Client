{
 "cells": [
  {
   "cell_type": "code",
   "execution_count": null,
   "id": "2d75b593",
   "metadata": {},
   "outputs": [
    {
     "name": "stdout",
     "output_type": "stream",
     "text": [
      "Waiting for connection response\n",
      "Hey there: yo wassup\n",
      "Server message: yo wassup\n"
     ]
    }
   ],
   "source": [
    "import socket\n",
    "ClientMultiSocket = socket.socket()\n",
    "host = '127.0.0.1'\n",
    "port = 2004\n",
    "print('Waiting for connection response')\n",
    "try:\n",
    "    ClientMultiSocket.connect((host, port))\n",
    "except socket.error as e:\n",
    "    print(str(e))\n",
    "res = ClientMultiSocket.recv(1024)\n",
    "while True:\n",
    "    Input = input('Hey there: ')\n",
    "    ClientMultiSocket.send(str.encode(Input))\n",
    "    res = ClientMultiSocket.recv(1024)\n",
    "    print(res.decode('utf-8'))\n",
    "ClientMultiSocket.close()"
   ]
  },
  {
   "cell_type": "code",
   "execution_count": null,
   "id": "078368cd",
   "metadata": {},
   "outputs": [],
   "source": []
  }
 ],
 "metadata": {
  "kernelspec": {
   "display_name": "Python 3 (ipykernel)",
   "language": "python",
   "name": "python3"
  },
  "language_info": {
   "codemirror_mode": {
    "name": "ipython",
    "version": 3
   },
   "file_extension": ".py",
   "mimetype": "text/x-python",
   "name": "python",
   "nbconvert_exporter": "python",
   "pygments_lexer": "ipython3",
   "version": "3.11.2"
  }
 },
 "nbformat": 4,
 "nbformat_minor": 5
}
