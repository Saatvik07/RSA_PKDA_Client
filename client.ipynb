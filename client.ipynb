{
 "cells": [
  {
   "cell_type": "code",
   "execution_count": 1,
   "id": "62251fd1",
   "metadata": {},
   "outputs": [],
   "source": [
    "import socket\n",
    "import os\n",
    "from _thread import *\n",
    "from random import randrange, getrandbits\n",
    "from math import gcd"
   ]
  },
  {
   "attachments": {},
   "cell_type": "markdown",
   "id": "53bd0318",
   "metadata": {},
   "source": [
    "### Generating big prime numbers using Miller Rabin Test\n",
    "<a href='https://medium.com/@ntnprdhmm/how-to-generate-big-prime-numbers-miller-rabin-49e6e6af32fb'>Source</a>"
   ]
  },
  {
   "cell_type": "code",
   "execution_count": 2,
   "id": "9fc7be5c",
   "metadata": {},
   "outputs": [],
   "source": [
    "def is_prime(n, k=128):\n",
    "    \"\"\" Test if a number is prime\n",
    "        Args:\n",
    "            n -- int -- the number to test\n",
    "            k -- int -- the number of tests to do\n",
    "        return True if n is prime\n",
    "    \"\"\"\n",
    "    # Test if n is not even.\n",
    "    # But care, 2 is prime !\n",
    "    if n == 2 or n == 3:\n",
    "        return True\n",
    "    if n <= 1 or n % 2 == 0:\n",
    "        return False\n",
    "    # find r and s\n",
    "    s = 0\n",
    "    r = n - 1\n",
    "    while r & 1 == 0:\n",
    "        s += 1\n",
    "        r //= 2\n",
    "    # do k tests\n",
    "    for _ in range(k):\n",
    "        a = randrange(2, n - 1)\n",
    "        x = pow(a, r, n)\n",
    "        if x != 1 and x != n - 1:\n",
    "            j = 1\n",
    "            while j < s and x != n - 1:\n",
    "                x = pow(x, 2, n)\n",
    "                if x == 1:\n",
    "                    return False\n",
    "                j += 1\n",
    "            if x != n - 1:\n",
    "                return False\n",
    "    return True\n",
    "\n",
    "def generate_prime_candidate(length):\n",
    "    \"\"\" Generate an odd integer randomly\n",
    "        Args:\n",
    "            length -- int -- the length of the number to generate, in bits\n",
    "        return a integer\n",
    "    \"\"\"\n",
    "    # generate random bits\n",
    "    p = getrandbits(length)\n",
    "    # apply a mask to set MSB and LSB to 1\n",
    "    p |= (1 << length - 1) | 1\n",
    "    return p\n",
    "def generate_prime_number(length=1024):\n",
    "    \"\"\" Generate a prime\n",
    "        Args:\n",
    "            length -- int -- length of the prime to generate, in          bits\n",
    "        return a prime\n",
    "    \"\"\"\n",
    "    p = 4\n",
    "    # keep generating while the primality test fail\n",
    "    while not is_prime(p, 128):\n",
    "        p = generate_prime_candidate(length)\n",
    "    return p\n"
   ]
  },
  {
   "attachments": {},
   "cell_type": "markdown",
   "id": "24d319d8",
   "metadata": {},
   "source": [
    "### Key Generation"
   ]
  },
  {
   "cell_type": "code",
   "execution_count": 3,
   "id": "99dd7db1",
   "metadata": {},
   "outputs": [],
   "source": [
    "def generate_public_key(phi):\n",
    "    e = phi-1\n",
    "    while True:\n",
    "        if gcd(e, phi) == 1:\n",
    "            return e\n",
    "        e -= 1"
   ]
  },
  {
   "cell_type": "code",
   "execution_count": 4,
   "id": "f55c55dc",
   "metadata": {},
   "outputs": [],
   "source": [
    "def generate_key():\n",
    "    p = generate_prime_number()\n",
    "    q = generate_prime_number()\n",
    "    n = p * q\n",
    "    phi = (p-1) * (q-1)\n",
    "    e = generate_public_key(phi)\n",
    "    d = pow(e, -1, phi)\n",
    "    return (e, n), (d, n)"
   ]
  },
  {
   "attachments": {},
   "cell_type": "markdown",
   "id": "8a6a67d9",
   "metadata": {},
   "source": [
    "### Encryption"
   ]
  },
  {
   "cell_type": "code",
   "execution_count": 5,
   "id": "02344afe",
   "metadata": {},
   "outputs": [],
   "source": [
    "def encrypt(pk, plaintext):\n",
    "    # Unpack the key into it's components\n",
    "    key, n = pk\n",
    "    # Convert each letter in the plaintext to numbers based on the character using a^b mod m\n",
    "    cipher = [pow(ord(char), key, n) for char in plaintext]\n",
    "    # Return the array of bytes\n",
    "    return cipher"
   ]
  },
  {
   "attachments": {},
   "cell_type": "markdown",
   "id": "ba47bd66",
   "metadata": {},
   "source": [
    "### Decryption"
   ]
  },
  {
   "cell_type": "code",
   "execution_count": 6,
   "id": "1b24716f",
   "metadata": {},
   "outputs": [],
   "source": [
    "def decrypt(pk, ciphertext):\n",
    "    # Unpack the key into its components\n",
    "    key, n = pk\n",
    "    # Generate the plaintext based on the ciphertext and key using a^b mod m\n",
    "    plain = [chr(pow(char, key, n)) for char in ciphertext]\n",
    "    # Return the array of bytes as a string\n",
    "    return ''.join(plain)"
   ]
  },
  {
   "cell_type": "code",
   "execution_count": 7,
   "id": "3875117e",
   "metadata": {},
   "outputs": [
    {
     "name": "stdout",
     "output_type": "stream",
     "text": [
      "(17025265256862057249099363879306690559718147044674702676092955282953338268607574829710947544104498676712270620679183437639931490271475064439448943259844184731717802817403713512756720393643146668314842687911979311170568626148814589366824400339324388202198387349394709953751485397414845609709351168917762909172148925977693218622295260970875073267600691880559467021443952741955710983385807693442602620800784789580943648874940700453009640991321840511437881170451757436800905833598727204360920908491852637517014539697498005674448255664992948076690069304624272776555341536655237907980441010174610797254206448346462950514919, 17025265256862057249099363879306690559718147044674702676092955282953338268607574829710947544104498676712270620679183437639931490271475064439448943259844184731717802817403713512756720393643146668314842687911979311170568626148814589366824400339324388202198387349394709953751485397414845609709351168917762909172410184249216870049128188503478862093127156208631633941925010073597577634521071078812875729340058393284024017743330022150207192062028459695185360940691304748622898023591824959390535425085614187919831290441687514880909660159523695669194850234673411105696569470025179606235355857438269584965364112235730610452559) (17025265256862057249099363879306690559718147044674702676092955282953338268607574829710947544104498676712270620679183437639931490271475064439448943259844184731717802817403713512756720393643146668314842687911979311170568626148814589366824400339324388202198387349394709953751485397414845609709351168917762909172148925977693218622295260970875073267600691880559467021443952741955710983385807693442602620800784789580943648874940700453009640991321840511437881170451757436800905833598727204360920908491852637517014539697498005674448255664992948076690069304624272776555341536655237907980441010174610797254206448346462950514919, 17025265256862057249099363879306690559718147044674702676092955282953338268607574829710947544104498676712270620679183437639931490271475064439448943259844184731717802817403713512756720393643146668314842687911979311170568626148814589366824400339324388202198387349394709953751485397414845609709351168917762909172410184249216870049128188503478862093127156208631633941925010073597577634521071078812875729340058393284024017743330022150207192062028459695185360940691304748622898023591824959390535425085614187919831290441687514880909660159523695669194850234673411105696569470025179606235355857438269584965364112235730610452559)\n"
     ]
    }
   ],
   "source": [
    "\n",
    "public_key, private_key = generate_key()\n",
    "print(public_key, private_key)"
   ]
  },
  {
   "cell_type": "code",
   "execution_count": null,
   "id": "631ae45b",
   "metadata": {},
   "outputs": [],
   "source": [
    "# print('Ciphertext: ', encrypt(pk, 'The quick brown fox jumps over the lazy dog.'))\n",
    "# print('Plaintext: ', decrypt(sk, encrypt(pk, 'The quick brown fox jumps over the lazy dog.')))"
   ]
  },
  {
   "cell_type": "code",
   "execution_count": 1,
   "id": "5d187bd1",
   "metadata": {},
   "outputs": [
    {
     "name": "stdout",
     "output_type": "stream",
     "text": [
      "Waiting for connection response\n",
      "Hey there: yo wassup\n",
      "Server message: yo wassup\n",
      "Hey there: hello world\n",
      "Server message: hello world\n"
     ]
    },
    {
     "ename": "KeyboardInterrupt",
     "evalue": "Interrupted by user",
     "output_type": "error",
     "traceback": [
      "\u001b[1;31m---------------------------------------------------------------------------\u001b[0m",
      "\u001b[1;31mKeyboardInterrupt\u001b[0m                         Traceback (most recent call last)",
      "Cell \u001b[1;32mIn[1], line 12\u001b[0m\n\u001b[0;32m     10\u001b[0m res \u001b[38;5;241m=\u001b[39m ClientMultiSocket\u001b[38;5;241m.\u001b[39mrecv(\u001b[38;5;241m1024\u001b[39m)\n\u001b[0;32m     11\u001b[0m \u001b[38;5;28;01mwhile\u001b[39;00m \u001b[38;5;28;01mTrue\u001b[39;00m:\n\u001b[1;32m---> 12\u001b[0m     Input \u001b[38;5;241m=\u001b[39m \u001b[38;5;28;43minput\u001b[39;49m\u001b[43m(\u001b[49m\u001b[38;5;124;43m'\u001b[39;49m\u001b[38;5;124;43mHey there: \u001b[39;49m\u001b[38;5;124;43m'\u001b[39;49m\u001b[43m)\u001b[49m\n\u001b[0;32m     13\u001b[0m     ClientMultiSocket\u001b[38;5;241m.\u001b[39msend(\u001b[38;5;28mstr\u001b[39m\u001b[38;5;241m.\u001b[39mencode(Input))\n\u001b[0;32m     14\u001b[0m     res \u001b[38;5;241m=\u001b[39m ClientMultiSocket\u001b[38;5;241m.\u001b[39mrecv(\u001b[38;5;241m1024\u001b[39m)\n",
      "File \u001b[1;32m~\\AppData\\Roaming\\Python\\Python311\\site-packages\\ipykernel\\kernelbase.py:1191\u001b[0m, in \u001b[0;36mKernel.raw_input\u001b[1;34m(self, prompt)\u001b[0m\n\u001b[0;32m   1189\u001b[0m     msg \u001b[38;5;241m=\u001b[39m \u001b[38;5;124m\"\u001b[39m\u001b[38;5;124mraw_input was called, but this frontend does not support input requests.\u001b[39m\u001b[38;5;124m\"\u001b[39m\n\u001b[0;32m   1190\u001b[0m     \u001b[38;5;28;01mraise\u001b[39;00m StdinNotImplementedError(msg)\n\u001b[1;32m-> 1191\u001b[0m \u001b[38;5;28;01mreturn\u001b[39;00m \u001b[38;5;28;43mself\u001b[39;49m\u001b[38;5;241;43m.\u001b[39;49m\u001b[43m_input_request\u001b[49m\u001b[43m(\u001b[49m\n\u001b[0;32m   1192\u001b[0m \u001b[43m    \u001b[49m\u001b[38;5;28;43mstr\u001b[39;49m\u001b[43m(\u001b[49m\u001b[43mprompt\u001b[49m\u001b[43m)\u001b[49m\u001b[43m,\u001b[49m\n\u001b[0;32m   1193\u001b[0m \u001b[43m    \u001b[49m\u001b[38;5;28;43mself\u001b[39;49m\u001b[38;5;241;43m.\u001b[39;49m\u001b[43m_parent_ident\u001b[49m\u001b[43m[\u001b[49m\u001b[38;5;124;43m\"\u001b[39;49m\u001b[38;5;124;43mshell\u001b[39;49m\u001b[38;5;124;43m\"\u001b[39;49m\u001b[43m]\u001b[49m\u001b[43m,\u001b[49m\n\u001b[0;32m   1194\u001b[0m \u001b[43m    \u001b[49m\u001b[38;5;28;43mself\u001b[39;49m\u001b[38;5;241;43m.\u001b[39;49m\u001b[43mget_parent\u001b[49m\u001b[43m(\u001b[49m\u001b[38;5;124;43m\"\u001b[39;49m\u001b[38;5;124;43mshell\u001b[39;49m\u001b[38;5;124;43m\"\u001b[39;49m\u001b[43m)\u001b[49m\u001b[43m,\u001b[49m\n\u001b[0;32m   1195\u001b[0m \u001b[43m    \u001b[49m\u001b[43mpassword\u001b[49m\u001b[38;5;241;43m=\u001b[39;49m\u001b[38;5;28;43;01mFalse\u001b[39;49;00m\u001b[43m,\u001b[49m\n\u001b[0;32m   1196\u001b[0m \u001b[43m\u001b[49m\u001b[43m)\u001b[49m\n",
      "File \u001b[1;32m~\\AppData\\Roaming\\Python\\Python311\\site-packages\\ipykernel\\kernelbase.py:1234\u001b[0m, in \u001b[0;36mKernel._input_request\u001b[1;34m(self, prompt, ident, parent, password)\u001b[0m\n\u001b[0;32m   1231\u001b[0m \u001b[38;5;28;01mexcept\u001b[39;00m \u001b[38;5;167;01mKeyboardInterrupt\u001b[39;00m:\n\u001b[0;32m   1232\u001b[0m     \u001b[38;5;66;03m# re-raise KeyboardInterrupt, to truncate traceback\u001b[39;00m\n\u001b[0;32m   1233\u001b[0m     msg \u001b[38;5;241m=\u001b[39m \u001b[38;5;124m\"\u001b[39m\u001b[38;5;124mInterrupted by user\u001b[39m\u001b[38;5;124m\"\u001b[39m\n\u001b[1;32m-> 1234\u001b[0m     \u001b[38;5;28;01mraise\u001b[39;00m \u001b[38;5;167;01mKeyboardInterrupt\u001b[39;00m(msg) \u001b[38;5;28;01mfrom\u001b[39;00m \u001b[38;5;28mNone\u001b[39m\n\u001b[0;32m   1235\u001b[0m \u001b[38;5;28;01mexcept\u001b[39;00m \u001b[38;5;167;01mException\u001b[39;00m:\n\u001b[0;32m   1236\u001b[0m     \u001b[38;5;28mself\u001b[39m\u001b[38;5;241m.\u001b[39mlog\u001b[38;5;241m.\u001b[39mwarning(\u001b[38;5;124m\"\u001b[39m\u001b[38;5;124mInvalid Message:\u001b[39m\u001b[38;5;124m\"\u001b[39m, exc_info\u001b[38;5;241m=\u001b[39m\u001b[38;5;28;01mTrue\u001b[39;00m)\n",
      "\u001b[1;31mKeyboardInterrupt\u001b[0m: Interrupted by user"
     ]
    }
   ],
   "source": [
    "import socket\n",
    "ClientMultiSocket = socket.socket()\n",
    "host = '127.0.0.1'\n",
    "port = 2004\n",
    "print('Waiting for connection response')\n",
    "try:\n",
    "    ClientMultiSocket.connect((host, port))\n",
    "except socket.error as e:\n",
    "    print(str(e))\n",
    "res = ClientMultiSocket.recv(1024)\n",
    "while True:\n",
    "    Input = input('Hey there: ')\n",
    "    ClientMultiSocket.send(str.encode(Input))\n",
    "    res = ClientMultiSocket.recv(1024)\n",
    "    print(res.decode('utf-8'))\n",
    "ClientMultiSocket.close()"
   ]
  },
  {
   "cell_type": "code",
   "execution_count": null,
   "id": "b1608837",
   "metadata": {},
   "outputs": [],
   "source": []
  }
 ],
 "metadata": {
  "kernelspec": {
   "display_name": "Python 3 (ipykernel)",
   "language": "python",
   "name": "python3"
  },
  "language_info": {
   "codemirror_mode": {
    "name": "ipython",
    "version": 3
   },
   "file_extension": ".py",
   "mimetype": "text/x-python",
   "name": "python",
   "nbconvert_exporter": "python",
   "pygments_lexer": "ipython3",
   "version": "3.11.2"
  }
 },
 "nbformat": 4,
 "nbformat_minor": 5
}
